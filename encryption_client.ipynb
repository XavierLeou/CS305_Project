{
 "cells": [
  {
   "cell_type": "markdown",
   "metadata": {},
   "source": [
    "+ The client first request the public key of asymmetric encryption from the server\n",
    "+ Client generates a key for symmetric encryption\n",
    "+ Client uses public key obtained from server to encrypt the public key and send to server\n",
    "+ Server uses its own private key to decrypted the received the encrypted key from client\n",
    "+ After the above negotiation process, server and client will use use symmetric encryption to encrypt the following communication with the negotiated key"
   ]
  },
  {
   "cell_type": "code",
   "execution_count": 258,
   "metadata": {},
   "outputs": [],
   "source": [
    "import socket\n",
    "from cryptography.fernet import Fernet\n",
    "from cryptography.hazmat.primitives import serialization\n",
    "from cryptography.hazmat.backends import default_backend\n",
    "from cryptography.hazmat.primitives.asymmetric import rsa, padding\n",
    "from cryptography.hazmat.primitives import padding as pad\n",
    "from cryptography.hazmat.primitives import hashes\n",
    "import base64\n",
    "import os\n",
    "from cryptography.hazmat.primitives.ciphers import Cipher, algorithms, modes"
   ]
  },
  {
   "cell_type": "code",
   "execution_count": 259,
   "metadata": {},
   "outputs": [],
   "source": [
    "# define a special request\n",
    "class Request:\n",
    "    # a simple request class containing method, url and headers\n",
    "    def __init__(self, method: str, url: str, headers: {str: str}, request_data: str, body):\n",
    "        self.method = method  # GET, POST, PUT, DELETE\n",
    "        self.url = url  # e.g. /index.html\n",
    "        self.headers = headers\n",
    "        self.request_data = request_data\n",
    "        self.body = body\n",
    "\n",
    "    def convert(self):\n",
    "        # output request\n",
    "        # custom ENCRYPTION/1.1 request\n",
    "        request = \"{} {} ENCRYPTION/1.1\\r\\n\".format(self.method, self.url)\n",
    "        request += \"\\r\\n\".join(\"{}: {}\".format(k, v) for k, v in self.headers.items())\n",
    "        request += \"\\r\\n\\r\\n\" + self.body\n",
    "        return request"
   ]
  },
  {
   "cell_type": "code",
   "execution_count": 260,
   "metadata": {},
   "outputs": [],
   "source": [
    "# socket connect 127.0.0.1:8080/\n",
    "s = socket.socket(socket.AF_INET, socket.SOCK_STREAM)\n",
    "s.connect((\"127.0.0.1\", 8080))"
   ]
  },
  {
   "cell_type": "code",
   "execution_count": 261,
   "metadata": {},
   "outputs": [
    {
     "name": "stdout",
     "output_type": "stream",
     "text": [
      "public key size:  2048\n"
     ]
    }
   ],
   "source": [
    "# first step: client request a public key\n",
    "request = Request(\"GET\", \"/public_key\", {}, \"\", \"\")\n",
    "s.sendall(request.convert().encode(\"utf-8\"))\n",
    "while True:\n",
    "    r = s.recv(1024)\n",
    "    if r is not None:\n",
    "        break\n",
    "public_key = serialization.load_pem_public_key(\n",
    "    r,\n",
    "    backend=default_backend()\n",
    ")\n",
    "print(\"public key size: \", public_key.key_size)"
   ]
  },
  {
   "cell_type": "code",
   "execution_count": 262,
   "metadata": {},
   "outputs": [
    {
     "name": "stdout",
     "output_type": "stream",
     "text": [
      "Key Generated b'b\\x85\\xf2\\x05\\x93\\xb8\\xe6\\x98\\xd2\\x92\\x88,iA\\x04\"m\\xdfq\\x8a\\xd2\\x17\\x82\\x1f\\xeeyhq\\x9b\\xd8\\x0bI'\n",
      "IV Generated b'{oQ-\\xd9\\xd2\\xce\\xf3\\xff\\xfc\\x1b\\x80\\x1d\\xd4\\x00\\xf3'\n"
     ]
    }
   ],
   "source": [
    "# second step: Client generates a key for symmetric encryption\n",
    "symmetric_key = os.urandom(32)\n",
    "print('Key Generated', symmetric_key)\n",
    "\n",
    "iv = os.urandom(16)\n",
    "print('IV Generated', iv)"
   ]
  },
  {
   "cell_type": "code",
   "execution_count": 263,
   "metadata": {},
   "outputs": [
    {
     "name": "stdout",
     "output_type": "stream",
     "text": [
      "Key Encrypted pOTP3zzYUskTjfJyxRB/KuS7RT48leYdYAMUCiUex7H5tzgabTjhjNdbIehQbHiboqQzySCL63SByMsfqS4LBkrh0pICdL8l1c41nibIJt6CWAso6GGeH8BnD9oPCn4KRgXZD+Zf2Uj/FUAyzJj8Zs/i6L6KZAR9Ta0l6obAht3iOKqdzvCnQdmmRiUOFjNC7wyagDJB/t7eQkRZXHxmXb82J71vLJprGY9xzTDNkYC7jTMsRgEICIgc3Rb/g6FXddX+o5rvkCUezfGg9E5bMX7B6+eiS7WuqAKUbrEQvYmHlCrOUAWfT1zyFMkCPV5E7bdskVej7+NAGZgyovs+Xw==\n",
      "Key Encrypted Length 344\n",
      "IV Encrypted ttOD1nSHYCmmn2tNAMIpjmB9f8HHd7fuzjnBI8aXdoZvQp9HRAyXR/Qsz7VCqcvdRXxP+gIL256LLfErBwBMEaMXDG/B0RVkW2R8GBMSwpU3CVd7SRdjGO8EKyG5UfiWqI/jQXAEGBs7hGUrBBGqx/gkn1jbJ9L7oUq+I7KU2tAKXFaq9oVQjIUbQ2ywoxu+YyTfehapSIvljUfQSe2mbVQ7W78P3K1nWnaiTJpxM/H1DPLd4F2PJf9bG19t5ABTc8LTPhPwk1oi10B/AQQ7kuMiL6XgDFfLUri86MVuGtTSjZaR9XX5iw/EnUCrF8lnTObi8CUv6k6Xk5oUW/pHhg==\n",
      "IV Encrypted Length 344\n"
     ]
    }
   ],
   "source": [
    "# third step: Client encrypts the symmetric key with the public key and sends it to the server\n",
    "\n",
    "# encrypt the symmetric key with the public key\n",
    "encrypted_key = public_key.encrypt(\n",
    "    symmetric_key,\n",
    "    padding.OAEP(\n",
    "        mgf=padding.MGF1(algorithm=hashes.SHA256()),\n",
    "        algorithm=hashes.SHA256(),\n",
    "        label=None\n",
    "    )\n",
    ")\n",
    "encrypted_symmetric_key = base64.b64encode(encrypted_key).decode(\"utf-8\")\n",
    "print('Key Encrypted', encrypted_symmetric_key)\n",
    "print('Key Encrypted Length', len(encrypted_symmetric_key))\n",
    "\n",
    "# send the encrypted symmetric key to the server\n",
    "request = Request(\"POST\", \"/encrypted_symmetric_key\", {\"encrypted_symmetric_key\": encrypted_symmetric_key}, \"\", \"\")\n",
    "s.sendall(request.convert().encode(\"utf-8\"))\n",
    "\n",
    "encrypted_iv = public_key.encrypt(\n",
    "    iv,\n",
    "    padding.OAEP(\n",
    "        mgf=padding.MGF1(algorithm=hashes.SHA256()),\n",
    "        algorithm=hashes.SHA256(),\n",
    "        label=None\n",
    "    )\n",
    ")\n",
    "encrypted_iv = base64.b64encode(encrypted_iv).decode(\"utf-8\")\n",
    "print('IV Encrypted', encrypted_iv)\n",
    "print('IV Encrypted Length', len(encrypted_iv))\n",
    "request = Request(\"POST\", \"/encrypted_iv\", {\"encrypted_iv\": encrypted_iv}, \"\", \"\")\n",
    "s.sendall(request.convert().encode(\"utf-8\"))"
   ]
  },
  {
   "cell_type": "code",
   "execution_count": 264,
   "metadata": {},
   "outputs": [
    {
     "name": "stdout",
     "output_type": "stream",
     "text": [
      "Body Encrypted e/DzmdMCs7TsFiwjWkRNmbDBSW+1frop99fjoxRVDw9NRK2zN6kRrX0if0aI7JRPIZoKZnqY7v8vruxzN1C3unFPMMJI+lRvSTFkn6+6guFEvPGKJFgyqoHAsrj3L3WVZoeiXPnTt0M0LS7rKdH/OgRNQEEGabxGh9VFeEQbK9n+gtYFgyCY/vDglLz6MfH38L+AwXFz8zoTZj3M+QbERYVjajx1VSN2MBZBNxajj+Qz+BVXKOX8ekBr6YVKDvnw\n",
      "POST /upload?path=client1/ ENCRYPTION/1.1\n",
      "Content-Type: multipart/form-data; boundary=----WebKitFormBoundary7MA4YWxkTrZu0gW\n",
      "Content-Length: 256\n",
      "Authorization: Basic Y2xpZW50MToxMjM=\n",
      "\n",
      "e/DzmdMCs7TsFiwjWkRNmbDBSW+1frop99fjoxRVDw9NRK2zN6kRrX0if0aI7JRPIZoKZnqY7v8vruxzN1C3unFPMMJI+lRvSTFkn6+6guFEvPGKJFgyqoHAsrj3L3WVZoeiXPnTt0M0LS7rKdH/OgRNQEEGabxGh9VFeEQbK9n+gtYFgyCY/vDglLz6MfH38L+AwXFz8zoTZj3M+QbERYVjajx1VSN2MBZBNxajj+Qz+BVXKOX8ekBr6YVKDvnw\n",
      "HTTP/1.1 200 OK\n",
      "Connection: keep-alive\n",
      "Content-Type: text/html\n",
      "Content-Length: 18\n",
      "\n",
      "encrypted responseHTTP/1.1 200 OK\n",
      "Connection: keep-alive\n",
      "Content-Type: text/html\n",
      "Content-Length: 18\n",
      "\n",
      "encrypted response\n"
     ]
    }
   ],
   "source": [
    "body = \"\"\"------WebKitFormBoundary7MA4YWxkTrZu0gW\\r\n",
    "Content-Disposition: form-data; name=\"firstfile\"; filename=\"a.txt\"\\r\n",
    "Content-Type: text/plain\\r\n",
    "\\r\n",
    "I love U!\\r\n",
    "------WebKitFormBoundary7MA4YWxkTrZu0gW--\"\"\"\n",
    "\n",
    "# fourth step: Client encrypts the file with the symmetric key and sends it to the server\n",
    "# encrypt the file with the symmetric key\n",
    "cipher = Cipher(algorithms.AES(symmetric_key), modes.CBC(iv), backend=default_backend())\n",
    "encryptor = cipher.encryptor()\n",
    "\n",
    "# Pad the body to ensure it is a multiple of the block length\n",
    "block_size = cipher.algorithm.block_size // 8\n",
    "padder = pad.PKCS7(block_size * 8).padder()\n",
    "padded_body = padder.update(body.encode('utf-8')) + padder.finalize()\n",
    "\n",
    "encrypted_body = encryptor.update(padded_body) + encryptor.finalize()\n",
    "encrypted_body = base64.b64encode(encrypted_body).decode(\"utf-8\")\n",
    "print('Body Encrypted', encrypted_body)\n",
    "\n",
    "headers = {\n",
    "    \"Content-Type\": \"multipart/form-data; boundary=----WebKitFormBoundary7MA4YWxkTrZu0gW\",\n",
    "    \"Content-Length\": len(encrypted_body),\n",
    "    \"Authorization\": \"Basic Y2xpZW50MToxMjM=\"\n",
    "}\n",
    "\n",
    "request = Request(\"POST\", \"/upload?path=client1/\", headers, \"\", encrypted_body)\n",
    "print(request.convert())\n",
    "s.sendall(request.convert().encode(\"utf-8\"))\n",
    "while True:\n",
    "    r = s.recv(1024)\n",
    "    if r is not None:\n",
    "        break\n",
    "\n",
    "print(r.decode(\"utf-8\"))"
   ]
  }
 ],
 "metadata": {
  "kernelspec": {
   "display_name": "Python 3",
   "language": "python",
   "name": "python3"
  },
  "language_info": {
   "codemirror_mode": {
    "name": "ipython",
    "version": 3
   },
   "file_extension": ".py",
   "mimetype": "text/x-python",
   "name": "python",
   "nbconvert_exporter": "python",
   "pygments_lexer": "ipython3",
   "version": "3.11.5"
  }
 },
 "nbformat": 4,
 "nbformat_minor": 2
}
