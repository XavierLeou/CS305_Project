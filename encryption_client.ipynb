{
 "cells": [
  {
   "cell_type": "markdown",
   "metadata": {},
   "source": [
    "+ The client first request the public key of asymmetric encryption from the server\n",
    "+ Client generates a key for symmetric encryption\n",
    "+ Client uses public key obtained from server to encrypt the public key and send to server\n",
    "+ Server uses its own private key to decrypted the received the encrypted key from client\n",
    "+ After the above negotiation process, server and client will use use symmetric encryption to encrypt the following communication with the negotiated key"
   ]
  },
  {
   "cell_type": "code",
   "execution_count": 9,
   "metadata": {},
   "outputs": [],
   "source": [
    "import socket\n",
    "from cryptography.fernet import Fernet\n",
    "from cryptography.hazmat.primitives import serialization\n",
    "from cryptography.hazmat.backends import default_backend\n",
    "from cryptography.hazmat.primitives.asymmetric import rsa, padding\n",
    "from cryptography.hazmat.primitives import padding as pad\n",
    "from cryptography.hazmat.primitives import hashes\n",
    "import base64\n",
    "import os\n",
    "from cryptography.hazmat.primitives.ciphers import Cipher, algorithms, modes"
   ]
  },
  {
   "cell_type": "code",
   "execution_count": 10,
   "metadata": {},
   "outputs": [],
   "source": [
    "# define a special request\n",
    "class Request:\n",
    "    # a simple request class containing method, url and headers\n",
    "    def __init__(self, method: str, url: str, headers: {str: str}, request_data: str, body):\n",
    "        self.method = method  # GET, POST, PUT, DELETE\n",
    "        self.url = url  # e.g. /index.html\n",
    "        self.headers = headers\n",
    "        self.request_data = request_data\n",
    "        self.body = body\n",
    "\n",
    "    def convert(self):\n",
    "        # output request\n",
    "        # custom ENCRYPTION/1.1 request\n",
    "        request = \"{} {} ENCRYPTION/1.1\\r\\n\".format(self.method, self.url)\n",
    "        request += \"\\r\\n\".join(\"{}: {}\".format(k, v) for k, v in self.headers.items())\n",
    "        request += \"\\r\\n\\r\\n\" + self.body\n",
    "        return request"
   ]
  },
  {
   "cell_type": "code",
   "execution_count": 11,
   "metadata": {},
   "outputs": [],
   "source": [
    "# socket connect 127.0.0.1:8080/\n",
    "s = socket.socket(socket.AF_INET, socket.SOCK_STREAM)\n",
    "s.connect((\"127.0.0.1\", 8080))"
   ]
  },
  {
   "cell_type": "code",
   "execution_count": 12,
   "metadata": {},
   "outputs": [
    {
     "name": "stdout",
     "output_type": "stream",
     "text": [
      "public key size:  2048\n"
     ]
    }
   ],
   "source": [
    "# first step: client request a public key\n",
    "request = Request(\"GET\", \"/public_key\", {}, \"\", \"\")\n",
    "s.sendall(request.convert().encode(\"utf-8\"))\n",
    "while True:\n",
    "    r = s.recv(1024)\n",
    "    if r is not None:\n",
    "        break\n",
    "public_key = serialization.load_pem_public_key(\n",
    "    r,\n",
    "    backend=default_backend()\n",
    ")\n",
    "print(\"public key size: \", public_key.key_size)"
   ]
  },
  {
   "cell_type": "code",
   "execution_count": 13,
   "metadata": {},
   "outputs": [
    {
     "name": "stdout",
     "output_type": "stream",
     "text": [
      "Key Generated b'\\x0e\\xc0C\\xe1\\x8du\\\\Q\\x91,\\xa4\\xe9\\x85\\xac?\\xd8W!\\xbf\\x1d\\xbe\\x02\\x05\\xafYo\\x11\\x1a\\\\\\x85\\x8b\\x89'\n",
      "IV Generated b'J\\x1ct\\x8e\\xb5\\xecY\\xecq+\\xe3+ZMoR'\n"
     ]
    }
   ],
   "source": [
    "# second step: Client generates a key for symmetric encryption\n",
    "symmetric_key = os.urandom(32)\n",
    "print('Key Generated', symmetric_key)\n",
    "\n",
    "iv = os.urandom(16)\n",
    "print('IV Generated', iv)"
   ]
  },
  {
   "cell_type": "code",
   "execution_count": 14,
   "metadata": {},
   "outputs": [
    {
     "name": "stdout",
     "output_type": "stream",
     "text": [
      "Key Encrypted RIBYIFBGskiCCwewDGXV2LddbzMKvFaNxOJaNjRYPbMxz9FG261dK/RW5eXnbwUs7gq7PjMj6UnYIV2V3oNmJGEAVCwPv2je1C0dcBz7kOIiwyq2p5caaRVAlfSdy0xYICVymCQhdsCxZz+g1xO94CXUDJtOuS947dR7x24+huCleTAxJLQBgca6rPVmSpkjFPO8X7tHGbzJXYQB10VpVBesA6WbshELH5I8Y+QZrq68PlSrfVVbcM4x5koJz+AhzzSusZDBL6PTxvfnTU8sKlVtpQWAl1Sid7lilZvZX4/TXBAiUe/ZNAm2VAAJQphxwvipFjoevukB5Jjcz2uY/A==\n",
      "Key Encrypted Length 344\n",
      "IV Encrypted R1pqMCDi3vvFPTym3OQVRg3UsrgmwLGOwh9dED3tZU002mlsm2t1J+ZF4GWrMlFXXCxfwIgUx5sIGYo0apKpHbm/d3TQ9yin6F8ffHkhtdTrQqIPDe2PGB1Yv+9YuzFrIx+ncs8f4dh4RyVmWAWNOX5UGoAVFPilSZFXBM9TcF8qKsgBKeS9uYbz5ChMooSnUd/+vyOAFatNi+RUL2P/rNYhkSqxBVhONOpR6U9peKGZiHiFxkwLHNbEHxlgR35KNpbBWnRwsSjmQEDNOvWmEJV7ZukMYVurmqVT7m8rqJBYBaky8aVvaQpDQF/h2BGSZdgdRJdjqrVgkJaMR0mwuw==\n",
      "IV Encrypted Length 344\n"
     ]
    }
   ],
   "source": [
    "# third step: Client encrypts the symmetric key with the public key and sends it to the server\n",
    "\n",
    "# encrypt the symmetric key with the public key\n",
    "encrypted_key = public_key.encrypt(\n",
    "    symmetric_key,\n",
    "    padding.OAEP(\n",
    "        mgf=padding.MGF1(algorithm=hashes.SHA256()),\n",
    "        algorithm=hashes.SHA256(),\n",
    "        label=None\n",
    "    )\n",
    ")\n",
    "encrypted_symmetric_key = base64.b64encode(encrypted_key).decode(\"utf-8\")\n",
    "print('Key Encrypted', encrypted_symmetric_key)\n",
    "print('Key Encrypted Length', len(encrypted_symmetric_key))\n",
    "\n",
    "# send the encrypted symmetric key to the server\n",
    "request = Request(\"POST\", \"/encrypted_symmetric_key\", {\"encrypted_symmetric_key\": encrypted_symmetric_key}, \"\", \"\")\n",
    "s.sendall(request.convert().encode(\"utf-8\"))\n",
    "\n",
    "encrypted_iv = public_key.encrypt(\n",
    "    iv,\n",
    "    padding.OAEP(\n",
    "        mgf=padding.MGF1(algorithm=hashes.SHA256()),\n",
    "        algorithm=hashes.SHA256(),\n",
    "        label=None\n",
    "    )\n",
    ")\n",
    "encrypted_iv = base64.b64encode(encrypted_iv).decode(\"utf-8\")\n",
    "print('IV Encrypted', encrypted_iv)\n",
    "print('IV Encrypted Length', len(encrypted_iv))\n",
    "request = Request(\"POST\", \"/encrypted_iv\", {\"encrypted_iv\": encrypted_iv}, \"\", \"\")\n",
    "s.sendall(request.convert().encode(\"utf-8\"))"
   ]
  },
  {
   "cell_type": "code",
   "execution_count": 17,
   "metadata": {},
   "outputs": [
    {
     "name": "stdout",
     "output_type": "stream",
     "text": [
      "Body Encrypted DAgKow7RdIgKScaj6wPR9oi2zPqbkKyHkVBZ7/kQeMeq3Tccri1Tr3s9KB+f1/i2IGCekC8qTxAgF9acykVdc7a4I52RqNhUQpuCK3vzfdwbXt2OO/J+cYt8cSDBbarY7TfwItulIw231qp0gqBN1m4JULxXpLMghJ+yAgFySjnP6Z6R3YMEVzC5bmrUEMk3e8G8PTa0KulDoH/wz0Eq8EAxSuuFIAqyh9bR3JeOGiKcTLJz9ylrUVHtMwSXi16p\n",
      "POST /upload?path=client1/ ENCRYPTION/1.1\n",
      "Content-Type: multipart/form-data; boundary=----WebKitFormBoundary7MA4YWxkTrZu0gW\n",
      "Content-Length: 256\n",
      "Authorization: Basic Y2xpZW50MToxMjM=\n",
      "\n",
      "DAgKow7RdIgKScaj6wPR9oi2zPqbkKyHkVBZ7/kQeMeq3Tccri1Tr3s9KB+f1/i2IGCekC8qTxAgF9acykVdc7a4I52RqNhUQpuCK3vzfdwbXt2OO/J+cYt8cSDBbarY7TfwItulIw231qp0gqBN1m4JULxXpLMghJ+yAgFySjnP6Z6R3YMEVzC5bmrUEMk3e8G8PTa0KulDoH/wz0Eq8EAxSuuFIAqyh9bR3JeOGiKcTLJz9ylrUVHtMwSXi16p\n",
      "\n",
      "\n",
      "HTTP/1.1 200 OK\n",
      "Connection: keep-alive\n",
      "Content-Type: text/html\n",
      "Set-Cookie: session-id=b'\\xb4\\xf6>\\xf5\\xde\\x1a\\xb2\\xed\\xeb\\xb9M!\\xe2\\x89\\xc8O\\xcd\\x8f\\x8b\\xc9\\xefe$\\x80'\n",
      "Content-Length: 44\n",
      "\n",
      "mkf9bb9jvaY5+zLw0lZ0vb1yqHSayf8YoZI7mu8bZFo=\n"
     ]
    }
   ],
   "source": [
    "body = \"\"\"------WebKitFormBoundary7MA4YWxkTrZu0gW\\r\n",
    "Content-Disposition: form-data; name=\"firstfile\"; filename=\"a.txt\"\\r\n",
    "Content-Type: text/plain\\r\n",
    "\\r\n",
    "I love U 2!\\r\n",
    "------WebKitFormBoundary7MA4YWxkTrZu0gW--\"\"\"\n",
    "\n",
    "# fourth step: Client encrypts the file with the symmetric key and sends it to the server\n",
    "# encrypt the file with the symmetric key\n",
    "cipher = Cipher(algorithms.AES(symmetric_key), modes.CBC(iv), backend=default_backend())\n",
    "encryptor = cipher.encryptor()\n",
    "\n",
    "# Pad the body to ensure it is a multiple of the block length\n",
    "block_size = cipher.algorithm.block_size // 8\n",
    "padder = pad.PKCS7(block_size * 8).padder()\n",
    "padded_body = padder.update(body.encode('utf-8')) + padder.finalize()\n",
    "\n",
    "encrypted_body = encryptor.update(padded_body) + encryptor.finalize()\n",
    "encrypted_body = base64.b64encode(encrypted_body).decode(\"utf-8\")\n",
    "print('Body Encrypted', encrypted_body)\n",
    "\n",
    "headers = {\n",
    "    \"Content-Type\": \"multipart/form-data; boundary=----WebKitFormBoundary7MA4YWxkTrZu0gW\",\n",
    "    \"Content-Length\": len(encrypted_body),\n",
    "    \"Authorization\": \"Basic Y2xpZW50MToxMjM=\"\n",
    "}\n",
    "\n",
    "request = Request(\"POST\", \"/upload?path=client1/\", headers, \"\", encrypted_body)\n",
    "print(request.convert())\n",
    "s.sendall(request.convert().encode(\"utf-8\"))\n",
    "while True:\n",
    "    r = s.recv(1024)\n",
    "    if r is not None:\n",
    "        break\n",
    "\n",
    "print(\"\\n\")\n",
    "print(r.decode(\"utf-8\"))"
   ]
  },
  {
   "cell_type": "code",
   "execution_count": 22,
   "metadata": {},
   "outputs": [
    {
     "name": "stdout",
     "output_type": "stream",
     "text": [
      "encrypted response\n"
     ]
    }
   ],
   "source": [
    "# get body from response\n",
    "r = r.decode(\"utf-8\").split(\"\\r\\n\\r\\n\")[1]\n",
    "\n",
    "# decrypt the response using the symmetric key and iv\n",
    "decryptor = cipher.decryptor()\n",
    "decrypted_body = decryptor.update(base64.b64decode(r)) + decryptor.finalize()\n",
    "unpadder = pad.PKCS7(block_size * 8).unpadder()\n",
    "decrypted_body = unpadder.update(decrypted_body) + unpadder.finalize()\n",
    "\n",
    "print(decrypted_body.decode(\"utf-8\"))"
   ]
  }
 ],
 "metadata": {
  "kernelspec": {
   "display_name": "Python 3",
   "language": "python",
   "name": "python3"
  },
  "language_info": {
   "codemirror_mode": {
    "name": "ipython",
    "version": 3
   },
   "file_extension": ".py",
   "mimetype": "text/x-python",
   "name": "python",
   "nbconvert_exporter": "python",
   "pygments_lexer": "ipython3",
   "version": "3.11.5"
  }
 },
 "nbformat": 4,
 "nbformat_minor": 2
}
