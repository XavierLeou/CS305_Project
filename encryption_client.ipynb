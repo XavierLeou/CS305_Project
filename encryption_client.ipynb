{
 "cells": [
  {
   "cell_type": "markdown",
   "metadata": {},
   "source": [
    "+ The client first request the public key of asymmetric encryption from the server\n",
    "+ Client generates a key for symmetric encryption\n",
    "+ Client uses public key obtained from server to encrypt the public key and send to server\n",
    "+ Server uses its own private key to decrypted the received the encrypted key from client\n",
    "+ After the above negotiation process, server and client will use use symmetric encryption to encrypt the following communication with the negotiated key"
   ]
  },
  {
   "cell_type": "code",
   "execution_count": 237,
   "metadata": {},
   "outputs": [],
   "source": [
    "import socket\n",
    "from cryptography.fernet import Fernet\n",
    "from cryptography.hazmat.primitives import serialization\n",
    "from cryptography.hazmat.backends import default_backend\n",
    "from cryptography.hazmat.primitives.asymmetric import rsa, padding\n",
    "from cryptography.hazmat.primitives import padding as pad\n",
    "from cryptography.hazmat.primitives import hashes\n",
    "import base64\n",
    "import os\n",
    "from cryptography.hazmat.primitives.ciphers import Cipher, algorithms, modes"
   ]
  },
  {
   "cell_type": "code",
   "execution_count": 238,
   "metadata": {},
   "outputs": [],
   "source": [
    "# define a special request\n",
    "class Request:\n",
    "    # a simple request class containing method, url and headers\n",
    "    def __init__(self, method: str, url: str, headers: {str: str}, request_data: str, body):\n",
    "        self.method = method  # GET, POST, PUT, DELETE\n",
    "        self.url = url  # e.g. /index.html\n",
    "        self.headers = headers\n",
    "        self.request_data = request_data\n",
    "        self.body = body\n",
    "\n",
    "    def convert(self):\n",
    "        # output request\n",
    "        # custom ENCRYPTION/1.1 request\n",
    "        request = \"{} {} ENCRYPTION/1.1\\r\\n\".format(self.method, self.url)\n",
    "        request += \"\\r\\n\".join(\"{}: {}\".format(k, v) for k, v in self.headers.items())\n",
    "        request += \"\\r\\n\\r\\n\" + self.body\n",
    "        return request"
   ]
  },
  {
   "cell_type": "code",
   "execution_count": 239,
   "metadata": {},
   "outputs": [],
   "source": [
    "# socket connect 127.0.0.1:8080/\n",
    "s = socket.socket(socket.AF_INET, socket.SOCK_STREAM)\n",
    "s.connect((\"127.0.0.1\", 8080))"
   ]
  },
  {
   "cell_type": "code",
   "execution_count": 240,
   "metadata": {},
   "outputs": [
    {
     "name": "stdout",
     "output_type": "stream",
     "text": [
      "public key size:  2048\n"
     ]
    }
   ],
   "source": [
    "# first step: client request a public key\n",
    "request = Request(\"GET\", \"/public_key\", {}, \"\", \"\")\n",
    "s.sendall(request.convert().encode(\"utf-8\"))\n",
    "while True:\n",
    "    r = s.recv(1024)\n",
    "    if r is not None:\n",
    "        break\n",
    "public_key = serialization.load_pem_public_key(\n",
    "    r,\n",
    "    backend=default_backend()\n",
    ")\n",
    "print(\"public key size: \", public_key.key_size)"
   ]
  },
  {
   "cell_type": "code",
   "execution_count": 241,
   "metadata": {},
   "outputs": [
    {
     "name": "stdout",
     "output_type": "stream",
     "text": [
      "Key Generated b\"#A\\xbeN\\xf1\\x0c'iAa\\x86\\xa2\\x9d`\\x97o\\xb4\\xdc {\\xb1.\\x85#\\x01?\\x8dM\\xe7;_!\"\n",
      "IV Generated b'\\xd9\\x8f-L\\xc9\\r\\xd2-\\xfbD\\xf3\\x0e\\xee;6\\x8e'\n"
     ]
    }
   ],
   "source": [
    "# second step: Client generates a key for symmetric encryption\n",
    "symmetric_key = os.urandom(32)\n",
    "print('Key Generated', symmetric_key)\n",
    "\n",
    "iv = os.urandom(16)\n",
    "print('IV Generated', iv)"
   ]
  },
  {
   "cell_type": "code",
   "execution_count": 242,
   "metadata": {},
   "outputs": [
    {
     "name": "stdout",
     "output_type": "stream",
     "text": [
      "Key Encrypted XkXbhHBdosu7XZY9jEM2nzp60snsLt1ayzyKteojNHQ99Mk+45eCW7/6eF5zG/dfGesmVBS4eKCSoHUU5mYsrdUHMrlNqjvggu+8G/OeL6OqPrjcXVnbJijAoo1k8B0yxuRC8CxtkQ3LbvMDDQ4b5vJgmHCYnNNOwfHV5khR+8MKRMkbfYZOZj7lPs3tW+cdQroBZHh6+XCn+kMQpEqSqFQYA9q1eDHpX7IX+PrI4ri1BBYm55VyPg3SJtAO8uetB0ptcX5wJGHX2SSo8qgLdguvt2nBT7Nn9Ynkv0uGHA0zGGEc+caGTNXZDt9VzqBHlG08NYbrAzTJIravzbBmAQ==\n",
      "Key Encrypted Length 344\n",
      "IV Encrypted DhtTImwJLhjJWTd8eovuqMA2gcZ+h/Uid3CzON66Pw2DpGGRkeEMjcWfjYfRW5jSueiOIJ+9htoiMZh7LtMlK+jka8XS1qdeh7bGIj/1BUlvE/T3B3kAplRSDzhmpaZOAsP7WLdAo6/+3oXA38RzCGnB37V86Pb7yZDU9c2T93aopoc8U86wav0VKcFavwZpAHNhgQvIQAjSxUldnBSkIPg/qcdntZr1yY8NIjUdUj8nhiWrFtyfbVIysQt1NwvC3Sah6ALXLZO+ib04JzfXnnfA4sIBI7E8Ybx/oI0MDUrNdH3/yeRW+SOCZcQSYEmGAg+3Vh5ivMVBdjn3YED6qg==\n",
      "IV Encrypted Length 344\n"
     ]
    }
   ],
   "source": [
    "# third step: Client encrypts the symmetric key with the public key and sends it to the server\n",
    "\n",
    "# encrypt the symmetric key with the public key\n",
    "encrypted_key = public_key.encrypt(\n",
    "    symmetric_key,\n",
    "    padding.OAEP(\n",
    "        mgf=padding.MGF1(algorithm=hashes.SHA256()),\n",
    "        algorithm=hashes.SHA256(),\n",
    "        label=None\n",
    "    )\n",
    ")\n",
    "encrypted_symmetric_key = base64.b64encode(encrypted_key).decode(\"utf-8\")\n",
    "print('Key Encrypted', encrypted_symmetric_key)\n",
    "print('Key Encrypted Length', len(encrypted_symmetric_key))\n",
    "\n",
    "# send the encrypted symmetric key to the server\n",
    "request = Request(\"POST\", \"/encrypted_symmetric_key\", {\"encrypted_symmetric_key\": encrypted_symmetric_key}, \"\", \"\")\n",
    "s.sendall(request.convert().encode(\"utf-8\"))\n",
    "\n",
    "encrypted_iv = public_key.encrypt(\n",
    "    iv,\n",
    "    padding.OAEP(\n",
    "        mgf=padding.MGF1(algorithm=hashes.SHA256()),\n",
    "        algorithm=hashes.SHA256(),\n",
    "        label=None\n",
    "    )\n",
    ")\n",
    "encrypted_iv = base64.b64encode(encrypted_iv).decode(\"utf-8\")\n",
    "print('IV Encrypted', encrypted_iv)\n",
    "print('IV Encrypted Length', len(encrypted_iv))\n",
    "request = Request(\"POST\", \"/encrypted_iv\", {\"encrypted_iv\": encrypted_iv}, \"\", \"\")\n",
    "s.sendall(request.convert().encode(\"utf-8\"))"
   ]
  },
  {
   "cell_type": "code",
   "execution_count": 243,
   "metadata": {},
   "outputs": [
    {
     "name": "stdout",
     "output_type": "stream",
     "text": [
      "Body Encrypted LYDRQ0pKaS3cVVl3u0Rkzi9CtsZEGdTPIp1wV3Hd02OIH2XuzC9rN77482seIKgjWkFM7rGviBEVgmsIUcxzOLgdPxrmFD/v8PS3B0Zu8PNlOh2KTruM/W9R/tD2xxY4dxzty89Sfa0hkYNR+TKbERWAdfi1Q1KfrM2EbE9KzeHcX0+V34/7gJ6ftb4dbB1fJ4Nctg7jYwlJil2yLrXdiQ0JVaBSiflciSnK+EoYkEFXpV14UpPVQq85Q4eiKvUl\n",
      "POST /upload?path=client1/ ENCRYPTION/1.1\n",
      "Content-Type: multipart/form-data; boundary=----WebKitFormBoundary7MA4YWxkTrZu0gW\n",
      "Content-Length: 256\n",
      "Authorization: Basic Y2xpZW50MToxMjM=\n",
      "\n",
      "LYDRQ0pKaS3cVVl3u0Rkzi9CtsZEGdTPIp1wV3Hd02OIH2XuzC9rN77482seIKgjWkFM7rGviBEVgmsIUcxzOLgdPxrmFD/v8PS3B0Zu8PNlOh2KTruM/W9R/tD2xxY4dxzty89Sfa0hkYNR+TKbERWAdfi1Q1KfrM2EbE9KzeHcX0+V34/7gJ6ftb4dbB1fJ4Nctg7jYwlJil2yLrXdiQ0JVaBSiflciSnK+EoYkEFXpV14UpPVQq85Q4eiKvUl\n",
      "HTTP/1.1 200 OK\n",
      "Connection: keep-alive\n",
      "Content-Type: text/html\n",
      "Content-Length: 18\n",
      "\n",
      "encrypted responseHTTP/1.1 200 OK\n",
      "Connection: keep-alive\n",
      "Content-Type: text/html\n",
      "Content-Length: 18\n",
      "\n",
      "encrypted response\n"
     ]
    }
   ],
   "source": [
    "body = \"\"\"------WebKitFormBoundary7MA4YWxkTrZu0gW\\r\n",
    "Content-Disposition: form-data; name=\"firstfile\"; filename=\"a.txt\"\\r\n",
    "Content-Type: text/plain\\r\n",
    "\\r\n",
    "I love U!\\r\n",
    "------WebKitFormBoundary7MA4YWxkTrZu0gW--\"\"\"\n",
    "\n",
    "# fourth step: Client encrypts the file with the symmetric key and sends it to the server\n",
    "# encrypt the file with the symmetric key\n",
    "cipher = Cipher(algorithms.AES(symmetric_key), modes.CBC(iv), backend=default_backend())\n",
    "encryptor = cipher.encryptor()\n",
    "\n",
    "# Pad the body to ensure it is a multiple of the block length\n",
    "block_size = cipher.algorithm.block_size // 8\n",
    "padder = pad.PKCS7(block_size * 8).padder()\n",
    "padded_body = padder.update(body.encode('utf-8')) + padder.finalize()\n",
    "\n",
    "encrypted_body = encryptor.update(padded_body) + encryptor.finalize()\n",
    "encrypted_body = base64.b64encode(encrypted_body).decode(\"utf-8\")\n",
    "print('Body Encrypted', encrypted_body)\n",
    "\n",
    "headers = {\n",
    "    \"Content-Type\": \"multipart/form-data; boundary=----WebKitFormBoundary7MA4YWxkTrZu0gW\",\n",
    "    \"Content-Length\": len(encrypted_body),\n",
    "    \"Authorization\": \"Basic Y2xpZW50MToxMjM=\"\n",
    "}\n",
    "\n",
    "request = Request(\"POST\", \"/upload?path=client1/\", headers, \"\", encrypted_body)\n",
    "print(request.convert())\n",
    "s.sendall(request.convert().encode(\"utf-8\"))\n",
    "while True:\n",
    "    r = s.recv(1024)\n",
    "    if r is not None:\n",
    "        break\n",
    "\n",
    "print(r.decode(\"utf-8\"))"
   ]
  }
 ],
 "metadata": {
  "kernelspec": {
   "display_name": "Python 3",
   "language": "python",
   "name": "python3"
  },
  "language_info": {
   "codemirror_mode": {
    "name": "ipython",
    "version": 3
   },
   "file_extension": ".py",
   "mimetype": "text/x-python",
   "name": "python",
   "nbconvert_exporter": "python",
   "pygments_lexer": "ipython3",
   "version": "3.11.5"
  }
 },
 "nbformat": 4,
 "nbformat_minor": 2
}
