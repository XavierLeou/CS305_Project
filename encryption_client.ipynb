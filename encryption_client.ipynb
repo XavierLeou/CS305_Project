{
 "cells": [
  {
   "cell_type": "markdown",
   "metadata": {},
   "source": [
    "# The client first request the public key of asymmetric encryption from the server\n",
    "# Client generates a key for symmetric encryption\n",
    "# Client uses public key obtained from server to encrypt the public key and send to server\n",
    "# Server uses its own private key to decrypted the received the encrypted key from client\n",
    "# After the above negotiation process, server and client will use use symmetric encryption to encrypt the following communication with the negotiated key"
   ]
  },
  {
   "cell_type": "code",
   "execution_count": 56,
   "metadata": {},
   "outputs": [
    {
     "ename": "ModuleNotFoundError",
     "evalue": "No module named 'cryptography'",
     "output_type": "error",
     "traceback": [
      "\u001b[0;31m---------------------------------------------------------------------------\u001b[0m",
      "\u001b[0;31mModuleNotFoundError\u001b[0m                       Traceback (most recent call last)",
      "\u001b[1;32m/Users/liuyuhan/Documents/Practice/Computer Network/project/encryption_client.ipynb Cell 2\u001b[0m line \u001b[0;36m3\n\u001b[1;32m      <a href='vscode-notebook-cell:/Users/liuyuhan/Documents/Practice/Computer%20Network/project/encryption_client.ipynb#W0sZmlsZQ%3D%3D?line=0'>1</a>\u001b[0m \u001b[39mimport\u001b[39;00m \u001b[39msocket\u001b[39;00m\n\u001b[1;32m      <a href='vscode-notebook-cell:/Users/liuyuhan/Documents/Practice/Computer%20Network/project/encryption_client.ipynb#W0sZmlsZQ%3D%3D?line=1'>2</a>\u001b[0m \u001b[39mimport\u001b[39;00m \u001b[39msecrets\u001b[39;00m\n\u001b[0;32m----> <a href='vscode-notebook-cell:/Users/liuyuhan/Documents/Practice/Computer%20Network/project/encryption_client.ipynb#W0sZmlsZQ%3D%3D?line=2'>3</a>\u001b[0m \u001b[39mfrom\u001b[39;00m \u001b[39mcryptography\u001b[39;00m\u001b[39m.\u001b[39;00m\u001b[39mhazmat\u001b[39;00m\u001b[39m.\u001b[39;00m\u001b[39mprimitives\u001b[39;00m\u001b[39m.\u001b[39;00m\u001b[39masymmetric\u001b[39;00m \u001b[39mimport\u001b[39;00m rsa, padding\n\u001b[1;32m      <a href='vscode-notebook-cell:/Users/liuyuhan/Documents/Practice/Computer%20Network/project/encryption_client.ipynb#W0sZmlsZQ%3D%3D?line=3'>4</a>\u001b[0m \u001b[39mfrom\u001b[39;00m \u001b[39mcryptography\u001b[39;00m\u001b[39m.\u001b[39;00m\u001b[39mhazmat\u001b[39;00m\u001b[39m.\u001b[39;00m\u001b[39mprimitives\u001b[39;00m \u001b[39mimport\u001b[39;00m serialization\n",
      "\u001b[0;31mModuleNotFoundError\u001b[0m: No module named 'cryptography'"
     ]
    }
   ],
   "source": [
    "import socket\n",
    "import secrets"
   ]
  },
  {
   "cell_type": "code",
   "execution_count": 18,
   "metadata": {},
   "outputs": [],
   "source": [
    "# define a special request\n",
    "class Request:\n",
    "    # a simple request class containing method, url and headers\n",
    "    def __init__(self, method: str, url: str, headers: {str: str}, request_data: str, body:str):\n",
    "        self.method = method  # GET, POST, PUT, DELETE\n",
    "        self.url = url  # e.g. /index.html\n",
    "        self.headers = headers\n",
    "        self.request_data = request_data\n",
    "        self.body = body\n",
    "\n",
    "    def __repr__(self) -> str:\n",
    "        # output request\n",
    "        # custom ENCRYPTION/1.1 request\n",
    "        request = \"{} {} ENCRYPTION/1.1\\r\\n\".format(self.method, self.url)\n",
    "        request += \"\\r\\n\".join(\"{}: {}\".format(k, v) for k, v in self.headers.items())\n",
    "        request += \"\\r\\n\\r\\n\"\n",
    "        # request += self.request_data.split(\"\\r\\n\\r\\n\", 1)[1]  # Append file data\n",
    "        return request"
   ]
  },
  {
   "cell_type": "code",
   "execution_count": 40,
   "metadata": {},
   "outputs": [],
   "source": [
    "# socket connect 127.0.0.1:8080/\n",
    "s = socket.socket(socket.AF_INET, socket.SOCK_STREAM)\n",
    "s.connect((\"127.0.0.1\", 8080))"
   ]
  },
  {
   "cell_type": "code",
   "execution_count": 52,
   "metadata": {},
   "outputs": [
    {
     "name": "stdout",
     "output_type": "stream",
     "text": [
      "Public Key 16929592767465609893667197996842639979939424032098774800139278703927488126983862324777431405113654797272608809110123832808707891077618124697398850668262707393164835093591674010260276462728548392922787414053906722727761340786402330177631595691000361205780030329466241611273008566633521841336332655654759771387860538625925102175686901901573335423221702859259615561899179873614976512247316703722027712970372864406617341662930481787455276397012433563337078234646314903551076942146764784396826708171560827907786339644507870302725540734623984121888315074450812808067823747891681768782621305337819100763606271126079656753253\n"
     ]
    }
   ],
   "source": [
    "# first step: client request a public key\n",
    "request = Request(\"GET\", \"/public_key\", {}, \"\", \"\")\n",
    "s.sendall(repr(request).encode(\"utf-8\"))\n",
    "while True:\n",
    "    r = s.recv(1024)\n",
    "    if r is not None:\n",
    "        break\n",
    "public_key = r.decode('utf-8').split(',')[0].split('(')[1].strip(\" \")\n",
    "print(\"Public Key:\", public_key)"
   ]
  },
  {
   "cell_type": "code",
   "execution_count": 53,
   "metadata": {},
   "outputs": [
    {
     "name": "stdout",
     "output_type": "stream",
     "text": [
      "b'\\x16\\xc0`\\x81\\x1ct<\\x10\\xc9n\\x8b\\\\\\x7f\\xde\\xc4\\xcdk\\xb4\\x9d&\\xf4\\xfa\\x91\\xd9\\xfa\\xa9\\xef\\x91\\xa1\\x07\\xf7c'\n"
     ]
    }
   ],
   "source": [
    "# second step: Client generates a key for symmetric encryption\n",
    "key = secrets.token_bytes(32)\n",
    "print('Key Generated', key)"
   ]
  },
  {
   "cell_type": "code",
   "execution_count": null,
   "metadata": {},
   "outputs": [],
   "source": []
  }
 ],
 "metadata": {
  "kernelspec": {
   "display_name": "Python 3",
   "language": "python",
   "name": "python3"
  },
  "language_info": {
   "codemirror_mode": {
    "name": "ipython",
    "version": 3
   },
   "file_extension": ".py",
   "mimetype": "text/x-python",
   "name": "python",
   "nbconvert_exporter": "python",
   "pygments_lexer": "ipython3",
   "version": "3.8.16"
  }
 },
 "nbformat": 4,
 "nbformat_minor": 2
}
